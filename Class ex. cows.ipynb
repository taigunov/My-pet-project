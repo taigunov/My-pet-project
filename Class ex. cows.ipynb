{
 "cells": [
  {
   "cell_type": "code",
   "execution_count": 1,
   "metadata": {},
   "outputs": [],
   "source": [
    "import pandas as pd\n",
    "import matplotlib.pyplot as plt\n",
    "import seaborn as sns"
   ]
  },
  {
   "cell_type": "code",
   "execution_count": 2,
   "metadata": {},
   "outputs": [],
   "source": [
    "import statsmodels.api as sm"
   ]
  },
  {
   "cell_type": "code",
   "execution_count": 7,
   "metadata": {},
   "outputs": [],
   "source": [
    "class SummaryPushkin:\n",
    "    def __init__(self, data):\n",
    "        self.df = pd.read_excel(data)\n",
    "        print(self.df.head())\n",
    "        print(self.df.describe())\n",
    "        print(self.df.corr())\n",
    "        print (self.df.hist)\n",
    "\n",
    "    "
   ]
  },
  {
   "cell_type": "code",
   "execution_count": 8,
   "metadata": {},
   "outputs": [
    {
     "name": "stdout",
     "output_type": "stream",
     "text": [
      "   Удой за 305 дней, кг  Жир за 305 дней, %  Белок за 305 дней, %\n",
      "0                  7494                3.64                  3.14\n",
      "1                  7614                3.48                  3.19\n",
      "2                  7573                4.02                  3.32\n",
      "3                  6549                4.00                  3.13\n",
      "4                  7383                4.03                  3.14\n",
      "       Удой за 305 дней, кг  Жир за 305 дней, %  Белок за 305 дней, %\n",
      "count              50.00000           50.000000             50.000000\n",
      "mean             7075.50000            3.938800              3.173200\n",
      "std               696.65991            0.185215              0.042013\n",
      "min              5239.00000            3.370000              3.050000\n",
      "25%              6638.75000            3.980000              3.170000\n",
      "50%              7151.00000            3.990000              3.180000\n",
      "75%              7497.00000            4.020000              3.190000\n",
      "max              8706.00000            4.210000              3.320000\n",
      "                      Удой за 305 дней, кг  Жир за 305 дней, %  \\\n",
      "Удой за 305 дней, кг              1.000000           -0.222155   \n",
      "Жир за 305 дней, %               -0.222155            1.000000   \n",
      "Белок за 305 дней, %             -0.034592            0.271952   \n",
      "\n",
      "                      Белок за 305 дней, %  \n",
      "Удой за 305 дней, кг             -0.034592  \n",
      "Жир за 305 дней, %                0.271952  \n",
      "Белок за 305 дней, %              1.000000  \n",
      "<bound method hist_frame of     Удой за 305 дней, кг  Жир за 305 дней, %  Белок за 305 дней, %\n",
      "0                   7494                3.64                  3.14\n",
      "1                   7614                3.48                  3.19\n",
      "2                   7573                4.02                  3.32\n",
      "3                   6549                4.00                  3.13\n",
      "4                   7383                4.03                  3.14\n",
      "5                   6664                4.02                  3.10\n",
      "6                   6751                4.02                  3.11\n",
      "7                   6283                4.02                  3.14\n",
      "8                   6631                4.02                  3.11\n",
      "9                   6130                4.01                  3.19\n",
      "10                  6040                4.08                  3.18\n",
      "11                  5902                4.03                  3.19\n",
      "12                  6702                4.06                  3.18\n",
      "13                  5239                4.04                  3.19\n",
      "14                  7498                3.99                  3.18\n",
      "15                  6897                3.99                  3.18\n",
      "16                  6916                3.97                  3.17\n",
      "17                  6547                4.00                  3.18\n",
      "18                  7410                4.00                  3.18\n",
      "19                  7369                3.98                  3.18\n",
      "20                  6638                3.96                  3.17\n",
      "21                  7264                3.98                  3.17\n",
      "22                  6779                3.99                  3.17\n",
      "23                  8144                4.02                  3.19\n",
      "24                  7600                3.99                  3.19\n",
      "25                  7746                4.01                  3.19\n",
      "26                  7111                3.98                  3.18\n",
      "27                  8416                4.21                  3.21\n",
      "28                  8018                4.21                  3.19\n",
      "29                  7184                3.99                  3.18\n",
      "30                  6471                3.99                  3.17\n",
      "31                  7805                3.99                  3.19\n",
      "32                  7121                4.00                  3.18\n",
      "33                  7181                3.99                  3.18\n",
      "34                  6996                3.99                  3.18\n",
      "35                  7359                4.00                  3.18\n",
      "36                  7157                3.99                  3.18\n",
      "37                  5830                4.00                  3.17\n",
      "38                  8201                3.75                  3.11\n",
      "39                  7718                3.77                  3.17\n",
      "40                  7911                3.99                  3.19\n",
      "41                  7158                3.98                  3.18\n",
      "42                  7356                4.00                  3.19\n",
      "43                  6275                3.98                  3.17\n",
      "44                  6391                3.98                  3.18\n",
      "45                  6679                3.51                  3.25\n",
      "46                  7182                3.37                  3.05\n",
      "47                  7145                3.46                  3.22\n",
      "48                  8706                3.44                  3.07\n",
      "49                  6641                4.02                  3.23>\n"
     ]
    },
    {
     "data": {
      "text/plain": [
       "<__main__.SummaryPushkin at 0x275645bc310>"
      ]
     },
     "execution_count": 8,
     "metadata": {},
     "output_type": "execute_result"
    }
   ],
   "source": [
    "SummaryPushkin('Cows3.xlsx')"
   ]
  },
  {
   "cell_type": "code",
   "execution_count": 5,
   "metadata": {},
   "outputs": [],
   "source": [
    "  \n",
    "class Summary:\n",
    "    def __init__(self, data,target):\n",
    "        self.df = pd.read_excel(data, columns=data.feature_names)\n",
    "        self.target = pd.read_excel(data.target, columns=[\"Жир за 305 дней, %\"])\n",
    "        X = df[\"Удой за 305 дней, кг\"]\n",
    "        y = target[\"Жир за 305 дней, %\"]\n",
    "        model = sm.OLS(y, X).fit()\n",
    "        predictions = model.predict(X)\n",
    "        model.summary()"
   ]
  },
  {
   "cell_type": "code",
   "execution_count": 6,
   "metadata": {},
   "outputs": [
    {
     "ename": "TypeError",
     "evalue": "__init__() missing 1 required positional argument: 'target'",
     "output_type": "error",
     "traceback": [
      "\u001b[1;31m---------------------------------------------------------------------------\u001b[0m",
      "\u001b[1;31mTypeError\u001b[0m                                 Traceback (most recent call last)",
      "\u001b[1;32m<ipython-input-6-0619804a7c26>\u001b[0m in \u001b[0;36m<module>\u001b[1;34m\u001b[0m\n\u001b[1;32m----> 1\u001b[1;33m \u001b[0mSummary\u001b[0m\u001b[1;33m(\u001b[0m\u001b[1;34m'Cow2.xlsx'\u001b[0m\u001b[1;33m)\u001b[0m\u001b[1;33m\u001b[0m\u001b[1;33m\u001b[0m\u001b[0m\n\u001b[0m",
      "\u001b[1;31mTypeError\u001b[0m: __init__() missing 1 required positional argument: 'target'"
     ]
    }
   ],
   "source": [
    "Summary('Cow2.xlsx')"
   ]
  }
 ],
 "metadata": {
  "interpreter": {
   "hash": "9444dae6e623bdbe4ce750747a44ae7814a59b63733579b1e77e75d643cc6614"
  },
  "kernelspec": {
   "display_name": "Python 3.8.8 64-bit ('base': conda)",
   "name": "python3"
  },
  "language_info": {
   "codemirror_mode": {
    "name": "ipython",
    "version": 3
   },
   "file_extension": ".py",
   "mimetype": "text/x-python",
   "name": "python",
   "nbconvert_exporter": "python",
   "pygments_lexer": "ipython3",
   "version": "3.8.8"
  },
  "orig_nbformat": 4
 },
 "nbformat": 4,
 "nbformat_minor": 2
}
